{
 "cells": [
  {
   "cell_type": "code",
   "execution_count": 2,
   "metadata": {},
   "outputs": [
    {
     "name": "stderr",
     "output_type": "stream",
     "text": [
      "Using TensorFlow backend.\n",
      "C:\\Users\\thaye_000\\Anaconda3\\lib\\site-packages\\tensorboard\\compat\\tensorflow_stub\\dtypes.py:541: FutureWarning: Passing (type, 1) or '1type' as a synonym of type is deprecated; in a future version of numpy, it will be understood as (type, (1,)) / '(1,)type'.\n",
      "  _np_qint8 = np.dtype([(\"qint8\", np.int8, 1)])\n",
      "C:\\Users\\thaye_000\\Anaconda3\\lib\\site-packages\\tensorboard\\compat\\tensorflow_stub\\dtypes.py:542: FutureWarning: Passing (type, 1) or '1type' as a synonym of type is deprecated; in a future version of numpy, it will be understood as (type, (1,)) / '(1,)type'.\n",
      "  _np_quint8 = np.dtype([(\"quint8\", np.uint8, 1)])\n",
      "C:\\Users\\thaye_000\\Anaconda3\\lib\\site-packages\\tensorboard\\compat\\tensorflow_stub\\dtypes.py:543: FutureWarning: Passing (type, 1) or '1type' as a synonym of type is deprecated; in a future version of numpy, it will be understood as (type, (1,)) / '(1,)type'.\n",
      "  _np_qint16 = np.dtype([(\"qint16\", np.int16, 1)])\n",
      "C:\\Users\\thaye_000\\Anaconda3\\lib\\site-packages\\tensorboard\\compat\\tensorflow_stub\\dtypes.py:544: FutureWarning: Passing (type, 1) or '1type' as a synonym of type is deprecated; in a future version of numpy, it will be understood as (type, (1,)) / '(1,)type'.\n",
      "  _np_quint16 = np.dtype([(\"quint16\", np.uint16, 1)])\n",
      "C:\\Users\\thaye_000\\Anaconda3\\lib\\site-packages\\tensorboard\\compat\\tensorflow_stub\\dtypes.py:545: FutureWarning: Passing (type, 1) or '1type' as a synonym of type is deprecated; in a future version of numpy, it will be understood as (type, (1,)) / '(1,)type'.\n",
      "  _np_qint32 = np.dtype([(\"qint32\", np.int32, 1)])\n",
      "C:\\Users\\thaye_000\\Anaconda3\\lib\\site-packages\\tensorboard\\compat\\tensorflow_stub\\dtypes.py:550: FutureWarning: Passing (type, 1) or '1type' as a synonym of type is deprecated; in a future version of numpy, it will be understood as (type, (1,)) / '(1,)type'.\n",
      "  np_resource = np.dtype([(\"resource\", np.ubyte, 1)])\n"
     ]
    }
   ],
   "source": [
    "from keras import backend as K\n",
    "from keras import callbacks\n",
    "import utils as ut\n",
    "import genDat as gd\n",
    "import numpy as np\n",
    "from params import *\n",
    "from keras.models import Sequential, Model\n",
    "from keras.layers import LSTM, Dense, TimeDistributed, SimpleRNN, Input\n",
    "from keras.utils import to_categorical\n",
    "from keras import optimizers\n",
    "from keras.models import load_model\n",
    "import matplotlib.pyplot as plt\n",
    "import scipy.stats"
   ]
  },
  {
   "cell_type": "code",
   "execution_count": 4,
   "metadata": {},
   "outputs": [],
   "source": [
    "# Pinball loss for quantile tao\n",
    "def pinball(y_true, y_pred):\n",
    "    pin = K.mean(K.maximum(y_true - y_pred, 0) * tao +\n",
    "                 K.maximum(y_pred - y_true, 0) * (1 - tao))\n",
    "    return pin"
   ]
  },
  {
   "cell_type": "code",
   "execution_count": 7,
   "metadata": {},
   "outputs": [],
   "source": [
    "model = load_model('my_model',custom_objects={'pinball':                   \n",
    "pinball})"
   ]
  },
  {
   "cell_type": "code",
   "execution_count": 28,
   "metadata": {},
   "outputs": [],
   "source": [
    "dat = gd.gen_batch(100, train_n, sigma_theta)\n",
    "junk = ut.setup_nn_mat(dat)\n",
    "batch_labels = junk[\"outcome\"]\n",
    "batch_data = junk[\"W\"].reshape((100, train_n, 1))"
   ]
  },
  {
   "cell_type": "code",
   "execution_count": 29,
   "metadata": {},
   "outputs": [],
   "source": [
    "preds = []\n",
    "for i in range(1000):\n",
    "    for j in range(100):\n",
    "        np.random.shuffle(batch_data[j,:,0])\n",
    "    preds.append(model.predict(batch_data))"
   ]
  },
  {
   "cell_type": "code",
   "execution_count": 30,
   "metadata": {},
   "outputs": [
    {
     "data": {
      "text/plain": [
       "array([[0.00051895],\n",
       "       [0.00050475],\n",
       "       [0.00066111],\n",
       "       [0.00052812],\n",
       "       [0.00068717],\n",
       "       [0.00040442],\n",
       "       [0.00067445],\n",
       "       [0.00048667],\n",
       "       [0.0004197 ],\n",
       "       [0.00044912],\n",
       "       [0.0004902 ],\n",
       "       [0.00064325],\n",
       "       [0.00041351],\n",
       "       [0.00041939],\n",
       "       [0.00036323],\n",
       "       [0.00048077],\n",
       "       [0.00044597],\n",
       "       [0.00055965],\n",
       "       [0.00053591],\n",
       "       [0.00032725],\n",
       "       [0.00054339],\n",
       "       [0.00053628],\n",
       "       [0.00034539],\n",
       "       [0.00050571],\n",
       "       [0.00042986],\n",
       "       [0.00044433],\n",
       "       [0.00061361],\n",
       "       [0.00064378],\n",
       "       [0.00059242],\n",
       "       [0.00051708],\n",
       "       [0.00035925],\n",
       "       [0.00039341],\n",
       "       [0.00032848],\n",
       "       [0.00046936],\n",
       "       [0.00047578],\n",
       "       [0.00072617],\n",
       "       [0.00050543],\n",
       "       [0.00047911],\n",
       "       [0.00048829],\n",
       "       [0.00041984],\n",
       "       [0.00056313],\n",
       "       [0.00059781],\n",
       "       [0.00055954],\n",
       "       [0.00046257],\n",
       "       [0.0004718 ],\n",
       "       [0.00045908],\n",
       "       [0.0005858 ],\n",
       "       [0.00037018],\n",
       "       [0.00058977],\n",
       "       [0.0005463 ],\n",
       "       [0.00047236],\n",
       "       [0.00049592],\n",
       "       [0.00054965],\n",
       "       [0.00060882],\n",
       "       [0.00043994],\n",
       "       [0.00052444],\n",
       "       [0.00035306],\n",
       "       [0.00057023],\n",
       "       [0.00051172],\n",
       "       [0.00066351],\n",
       "       [0.00034628],\n",
       "       [0.00052885],\n",
       "       [0.00057475],\n",
       "       [0.00047812],\n",
       "       [0.00041968],\n",
       "       [0.00049465],\n",
       "       [0.00048559],\n",
       "       [0.00050262],\n",
       "       [0.00048689],\n",
       "       [0.00053511],\n",
       "       [0.00049733],\n",
       "       [0.00049806],\n",
       "       [0.00047529],\n",
       "       [0.00059386],\n",
       "       [0.00038023],\n",
       "       [0.00050638],\n",
       "       [0.00040709],\n",
       "       [0.00045865],\n",
       "       [0.00047915],\n",
       "       [0.00050083],\n",
       "       [0.00046525],\n",
       "       [0.00049217],\n",
       "       [0.00038085],\n",
       "       [0.00051689],\n",
       "       [0.00047746],\n",
       "       [0.00061837],\n",
       "       [0.00045458],\n",
       "       [0.00056796],\n",
       "       [0.00045548],\n",
       "       [0.00064239],\n",
       "       [0.00081489],\n",
       "       [0.00054289],\n",
       "       [0.00038545],\n",
       "       [0.00042537],\n",
       "       [0.0003756 ],\n",
       "       [0.00058445],\n",
       "       [0.00047807],\n",
       "       [0.00066713],\n",
       "       [0.00035486],\n",
       "       [0.00050505]], dtype=float32)"
      ]
     },
     "execution_count": 30,
     "metadata": {},
     "output_type": "execute_result"
    }
   ],
   "source": [
    "np.var(preds, axis = 0)"
   ]
  },
  {
   "cell_type": "code",
   "execution_count": 20,
   "metadata": {
    "scrolled": true
   },
   "outputs": [
    {
     "data": {
      "text/plain": [
       "(100, 100, 1)"
      ]
     },
     "execution_count": 20,
     "metadata": {},
     "output_type": "execute_result"
    }
   ],
   "source": [
    "np.shape(batch_data)"
   ]
  },
  {
   "cell_type": "code",
   "execution_count": 48,
   "metadata": {},
   "outputs": [
    {
     "data": {
      "text/plain": [
       "<matplotlib.collections.PathCollection at 0x22013bf14e0>"
      ]
     },
     "execution_count": 48,
     "metadata": {},
     "output_type": "execute_result"
    },
    {
     "data": {
      "image/png": "[encoded data removed]",
      "text/plain": [
       "<Figure size 432x288 with 1 Axes>"
      ]
     },
     "metadata": {
      "needs_background": "light"
     },
     "output_type": "display_data"
    }
   ],
   "source": [
    "plt.scatter(batch_labels,np.mean(preds, axis = 0))\n"
   ]
  },
  {
   "cell_type": "code",
   "execution_count": 50,
   "metadata": {},
   "outputs": [
    {
     "data": {
      "text/plain": [
       "<matplotlib.collections.PathCollection at 0x22013c9c438>"
      ]
     },
     "execution_count": 50,
     "metadata": {},
     "output_type": "execute_result"
    },
    {
     "data": {
      "image/png": "[encoded data removed]",
      "text/plain": [
       "<Figure size 432x288 with 1 Axes>"
      ]
     },
     "metadata": {
      "needs_background": "light"
     },
     "output_type": "display_data"
    }
   ],
   "source": [
    "plt.scatter(batch_labels, np.var(preds,axis = 0))"
   ]
  },
  {
   "cell_type": "code",
   "execution_count": 94,
   "metadata": {},
   "outputs": [
    {
     "data": {
      "text/plain": [
       "<matplotlib.lines.Line2D at 0x22013c72be0>"
      ]
     },
     "execution_count": 94,
     "metadata": {},
     "output_type": "execute_result"
    },
    {
     "data": {
      "image/png": "[encoded data removed]",
      "text/plain": [
       "<Figure size 432x288 with 1 Axes>"
      ]
     },
     "metadata": {
      "needs_background": "light"
     },
     "output_type": "display_data"
    }
   ],
   "source": [
    "plt.plot([k[0] for k in preds])\n",
    "plt.axhline(y=batch_labels[0], color='g', linestyle='-')\n",
    "plt.axhline(y=0.5*np.mean(batch_data[0]), color='r', linestyle='-')\n",
    "plt.axhline(y=np.mean([k[0] for k in preds]), color='y', linestyle='-')"
   ]
  },
  {
   "cell_type": "code",
   "execution_count": 70,
   "metadata": {},
   "outputs": [
    {
     "data": {
      "text/plain": [
       "<matplotlib.lines.Line2D at 0x2201515b6d8>"
      ]
     },
     "execution_count": 70,
     "metadata": {},
     "output_type": "execute_result"
    },
    {
     "data": {
      "image/png": "[encoded data removed]",
      "text/plain": [
       "<Figure size 432x288 with 1 Axes>"
      ]
     },
     "metadata": {
      "needs_background": "light"
     },
     "output_type": "display_data"
    }
   ],
   "source": [
    "plt.plot([k[1] for k in preds])\n",
    "plt.axhline(y=batch_labels[1], color='g', linestyle='-')\n",
    "plt.axhline(y=0.5*np.mean(batch_data[1]), color='r', linestyle='-')\n",
    "plt.axhline(y=np.mean([k[1] for k in preds]), color='y', linestyle='-')"
   ]
  },
  {
   "cell_type": "code",
   "execution_count": 77,
   "metadata": {},
   "outputs": [],
   "source": [
    "loss_1 = []\n",
    "for i in range(100):\n",
    "    loss_1.append(np.mean(np.abs(batch_labels[i]- [k[i] for k in preds])))"
   ]
  },
  {
   "cell_type": "code",
   "execution_count": null,
   "metadata": {},
   "outputs": [],
   "source": [
    "loss_2 = []\n",
    "for i in range(100):\n",
    "    loss_2.append(np.mean(np.abs(batch_labels[i]- np.mean([k[i] for k in preds]))))"
   ]
  },
  {
   "cell_type": "code",
   "execution_count": 90,
   "metadata": {},
   "outputs": [],
   "source": [
    "loss_3 = np.abs(0.5*np.mean(batch_data, axis = 1)-batch_labels)"
   ]
  },
  {
   "cell_type": "code",
   "execution_count": 91,
   "metadata": {},
   "outputs": [
    {
     "data": {
      "text/plain": [
       "0.07350998230115441"
      ]
     },
     "execution_count": 91,
     "metadata": {},
     "output_type": "execute_result"
    }
   ],
   "source": [
    "np.mean(loss_1)"
   ]
  },
  {
   "cell_type": "code",
   "execution_count": 92,
   "metadata": {},
   "outputs": [
    {
     "data": {
      "text/plain": [
       "0.0719509947469362"
      ]
     },
     "execution_count": 92,
     "metadata": {},
     "output_type": "execute_result"
    }
   ],
   "source": [
    "np.mean(loss_2)"
   ]
  },
  {
   "cell_type": "code",
   "execution_count": 93,
   "metadata": {},
   "outputs": [
    {
     "data": {
      "text/plain": [
       "0.07188977724187494"
      ]
     },
     "execution_count": 93,
     "metadata": {},
     "output_type": "execute_result"
    }
   ],
   "source": [
    "np.mean(loss_3)"
   ]
  },
  {
   "cell_type": "code",
   "execution_count": null,
   "metadata": {},
   "outputs": [],
   "source": []
  }
 ],
 "metadata": {
  "kernelspec": {
   "display_name": "Python 3",
   "language": "python",
   "name": "python3"
  },
  "language_info": {
   "codemirror_mode": {
    "name": "ipython",
    "version": 3
   },
   "file_extension": ".py",
   "mimetype": "text/x-python",
   "name": "python",
   "nbconvert_exporter": "python",
   "pygments_lexer": "ipython3",
   "version": "3.6.10"
  }
 },
 "nbformat": 4,
 "nbformat_minor": 4
}
